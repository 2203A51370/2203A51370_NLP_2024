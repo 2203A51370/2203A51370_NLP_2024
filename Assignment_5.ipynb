{
  "nbformat": 4,
  "nbformat_minor": 0,
  "metadata": {
    "colab": {
      "provenance": []
    },
    "kernelspec": {
      "name": "python3",
      "display_name": "Python 3"
    },
    "language_info": {
      "name": "python"
    }
  },
  "cells": [
    {
      "cell_type": "code",
      "execution_count": null,
      "metadata": {
        "colab": {
          "base_uri": "https://localhost:8080/"
        },
        "id": "9qCnf3UKBYEE",
        "outputId": "343a4bef-b5d3-4376-b177-eb68b93a4d14"
      },
      "outputs": [
        {
          "output_type": "stream",
          "name": "stdout",
          "text": [
            "Requirement already satisfied: hmmlearn in /usr/local/lib/python3.10/dist-packages (0.3.2)\n",
            "Requirement already satisfied: numpy>=1.10 in /usr/local/lib/python3.10/dist-packages (from hmmlearn) (1.26.4)\n",
            "Requirement already satisfied: scikit-learn!=0.22.0,>=0.16 in /usr/local/lib/python3.10/dist-packages (from hmmlearn) (1.3.2)\n",
            "Requirement already satisfied: scipy>=0.19 in /usr/local/lib/python3.10/dist-packages (from hmmlearn) (1.13.1)\n",
            "Requirement already satisfied: joblib>=1.1.1 in /usr/local/lib/python3.10/dist-packages (from scikit-learn!=0.22.0,>=0.16->hmmlearn) (1.4.2)\n",
            "Requirement already satisfied: threadpoolctl>=2.0.0 in /usr/local/lib/python3.10/dist-packages (from scikit-learn!=0.22.0,>=0.16->hmmlearn) (3.5.0)\n"
          ]
        }
      ],
      "source": [
        "+!pip install hmmlearn\n"
      ]
    },
    {
      "cell_type": "code",
      "source": [
        "import numpy as np\n",
        "\n",
        "states = [\"Sunny\", \"Rainy\"]\n",
        "observations = [\"Dry\", \"Damp\", \"Wet\"]\n",
        "\n",
        "state_map = {state: i for i, state in enumerate(states)}\n",
        "obs_map = {obs: i for i, obs in enumerate(observations)}\n",
        "\n",
        "transition_prob = np.array([\n",
        "    [0.7, 0.3],\n",
        "    [0.4, 0.6]\n",
        "])\n",
        "\n",
        "emission_prob = np.array([\n",
        "    [0.6, 0.3, 0.1],\n",
        "    [0.2, 0.4, 0.4]\n",
        "])\n",
        "start_prob = np.array([0.8, 0.2])\n",
        "\n",
        "def viterbi(obs_sequence, start_prob, trans_prob, emit_prob):\n",
        "    n_states = len(start_prob)\n",
        "    n_obs = len(obs_sequence)\n",
        "\n",
        "    viterbi_matrix = np.zeros((n_states, n_obs))\n",
        "    backpointer = np.zeros((n_states, n_obs), dtype=int)\n",
        "\n",
        "    viterbi_matrix[:, 0] = start_prob * emit_prob[:, obs_map[obs_sequence[0]]]\n",
        "\n",
        "    for t in range(1, n_obs):\n",
        "        for s in range(n_states):\n",
        "            prob = viterbi_matrix[:, t - 1] * trans_prob[:, s] * emit_prob[s, obs_map[obs_sequence[t]]]\n",
        "            viterbi_matrix[s, t] = np.max(prob)\n",
        "            backpointer[s, t] = np.argmax(prob)\n",
        "\n",
        "    best_path = np.zeros(n_obs, dtype=int)\n",
        "    best_path[-1] = np.argmax(viterbi_matrix[:, -1])\n",
        "\n",
        "    for t in range(n_obs - 2, -1, -1):\n",
        "        best_path[t] = backpointer[best_path[t + 1], t + 1]\n",
        "\n",
        "    best_state_sequence = [states[state] for state in best_path]\n",
        "\n",
        "    return best_state_sequence, viterbi_matrix\n",
        "obs_sequence = [\"Dry\", \"Damp\", \"Wet\"]\n",
        "\n",
        "best_state_sequence, viterbi_matrix = viterbi(obs_sequence, start_prob, transition_prob, emission_prob)\n",
        "\n",
        "print(\"Observation Sequence:\", obs_sequence)\n",
        "print(\"Best State Sequence:\", best_state_sequence)\n",
        "print(\"Viterbi Matrix:\\n\", viterbi_matrix)"
      ],
      "metadata": {
        "colab": {
          "base_uri": "https://localhost:8080/"
        },
        "id": "SwssG4g2PHdC",
        "outputId": "d16fd297-ab7a-40dc-f86c-39b193f8eefc"
      },
      "execution_count": null,
      "outputs": [
        {
          "output_type": "stream",
          "name": "stdout",
          "text": [
            "Observation Sequence: ['Dry', 'Damp', 'Wet']\n",
            "Best State Sequence: ['Sunny', 'Rainy', 'Rainy']\n",
            "Viterbi Matrix:\n",
            " [[0.48     0.1008   0.007056]\n",
            " [0.04     0.0576   0.013824]]\n"
          ]
        }
      ]
    },
    {
      "cell_type": "code",
      "source": [
        "import numpy as np\n",
        "from hmmlearn import hmm\n",
        "\n",
        "states = [\"Sunny\", \"Rainy\"]\n",
        "n_states = len(states)\n",
        "\n",
        "observations = [\"Dry\", \"Damp\", \"Wet\"]\n",
        "n_observations = len(observations)\n",
        "print(\"States:\", states)\n",
        "print(\"Number of States:\", n_states)\n",
        "print(\"Observations:\", observations)\n",
        "print(\"Number of Observations:\", n_observations)\n"
      ],
      "metadata": {
        "colab": {
          "base_uri": "https://localhost:8080/"
        },
        "id": "QCv9tygPBilI",
        "outputId": "12cab277-a151-43fd-86ac-18415857932a"
      },
      "execution_count": null,
      "outputs": [
        {
          "output_type": "stream",
          "name": "stdout",
          "text": [
            "States: ['Sunny', 'Rainy']\n",
            "Number of States: 2\n",
            "Observations: ['Dry', 'Damp', 'Wet']\n",
            "Number of Observations: 3\n"
          ]
        }
      ]
    },
    {
      "cell_type": "code",
      "source": [
        "import numpy as np\n",
        "from hmmlearn import hmm\n",
        "states = [\"Sunny\", \"Rainy\"]\n",
        "n_states = len(states)\n",
        "observations = [\"Dry\", \"Damp\", \"Wet\"]\n",
        "n_observations = len(observations)\n",
        "transition_prob = np.array([\n",
        "    [0.7, 0.3],  # Sunny -> Sunny, Sunny -> Rainy\n",
        "    [0.4, 0.6]   # Rainy -> Sunny, Rainy -> Rainy\n",
        "])\n",
        "print(\"Transition Probabilities (A):\")\n",
        "print(transition_prob)\n",
        "\n"
      ],
      "metadata": {
        "colab": {
          "base_uri": "https://localhost:8080/"
        },
        "id": "gH3vxbiAPNOE",
        "outputId": "abc915f6-c6f6-47dc-d98e-d79d65e922b5"
      },
      "execution_count": null,
      "outputs": [
        {
          "output_type": "stream",
          "name": "stdout",
          "text": [
            "Transition Probabilities (A):\n",
            "[[0.7 0.3]\n",
            " [0.4 0.6]]\n"
          ]
        }
      ]
    },
    {
      "cell_type": "code",
      "source": [
        "import numpy as np\n",
        "from hmmlearn import hmm\n",
        "\n",
        "states = [\"Sunny\", \"Rainy\"]\n",
        "n_states = len(states)\n",
        "\n",
        "observations = [\"Dry\", \"Damp\", \"Wet\"]\n",
        "n_observations = len(observations)\n",
        "emission_prob = np.array([\n",
        "    [0.8, 0.15, 0.05],  # Sunny -> Dry, Sunny -> Damp, Sunny -> Wet\n",
        "    [0.1, 0.35, 0.55]   # Rainy -> Dry, Rainy -> Damp, Rainy -> Wet\n",
        "])\n",
        "print(\"Emission Probabilities (B):\")\n",
        "print(emission_prob)"
      ],
      "metadata": {
        "colab": {
          "base_uri": "https://localhost:8080/"
        },
        "id": "p40AdFcLPQ__",
        "outputId": "f2495f97-895f-4efb-b30f-c5c39c9d7a7d"
      },
      "execution_count": null,
      "outputs": [
        {
          "output_type": "stream",
          "name": "stdout",
          "text": [
            "Emission Probabilities (B):\n",
            "[[0.8  0.15 0.05]\n",
            " [0.1  0.35 0.55]]\n"
          ]
        }
      ]
    },
    {
      "cell_type": "code",
      "source": [
        "import numpy as np\n",
        "states = [\"Sunny\", \"Rainy\"]\n",
        "n_states = len(states)\n",
        "start_prob = np.array([0.6, 0.4])  # Initial probability of being Sunny or Rainy\n",
        "print(\"Initial Probabilities (π):\")\n",
        "print(start_prob)\n"
      ],
      "metadata": {
        "colab": {
          "base_uri": "https://localhost:8080/"
        },
        "id": "js-YeNZvPmOC",
        "outputId": "2844be4d-d91b-467f-bf3c-d7421d756498"
      },
      "execution_count": null,
      "outputs": [
        {
          "output_type": "stream",
          "name": "stdout",
          "text": [
            "Initial Probabilities (π):\n",
            "[0.6 0.4]\n"
          ]
        }
      ]
    },
    {
      "cell_type": "code",
      "source": [
        "import numpy as np\n",
        "from hmmlearn import hmm\n",
        "\n",
        "states = [\"Sunny\", \"Rainy\"]\n",
        "n_states = len(states)\n",
        "\n",
        "transition_prob = np.array([\n",
        "    [0.6, 0.4],\n",
        "    [0.5, 0.5]\n",
        "])\n",
        "\n",
        "means = np.array([\n",
        "    [1.2],\n",
        "    [2.8]\n",
        "])\n",
        "covariances = np.array([\n",
        "    [0.4],\n",
        "    [0.6]\n",
        "])\n",
        "start_prob = np.array([0.7, 0.3])\n",
        "\n",
        "model = hmm.GaussianHMM(n_components=n_states, covariance_type='diag')\n",
        "\n",
        "model.startprob_ = start_prob\n",
        "model.transmat_ = transition_prob\n",
        "model.means_ = means\n",
        "model.covars_ = covariances\n",
        "\n",
        "observation_sequences = [\n",
        "    np.array([1, 2, 3, 1, 2]).reshape(-1, 1),\n",
        "    np.array([3, 3, 2, 1]).reshape(-1, 1)\n",
        "]\n",
        "\n",
        "for i, observation_sequence in enumerate(observation_sequences):\n",
        "\n",
        "    logprob, hidden_states = model.decode(observation_sequence, algorithm=\"viterbi\")\n",
        "    print(f\"\\nObservation Sequence {i + 1}: {[observations[j-1] for j in observation_sequence.flatten()]}\")\n",
        "    print(\"Predicted Hidden States:\", [states[i] for i in hidden_states])\n"
      ],
      "metadata": {
        "id": "XpxkylVePoZE",
        "outputId": "093c037c-c0a2-41b9-e82e-74fddc07397c",
        "colab": {
          "base_uri": "https://localhost:8080/"
        }
      },
      "execution_count": null,
      "outputs": [
        {
          "output_type": "stream",
          "name": "stdout",
          "text": [
            "\n",
            "Observation Sequence 1: ['Dry', 'Damp', 'Wet', 'Dry', 'Damp']\n",
            "Predicted Hidden States: ['Sunny', 'Sunny', 'Rainy', 'Sunny', 'Sunny']\n",
            "\n",
            "Observation Sequence 2: ['Wet', 'Wet', 'Damp', 'Dry']\n",
            "Predicted Hidden States: ['Rainy', 'Rainy', 'Sunny', 'Sunny']\n"
          ]
        }
      ]
    }
  ]
}